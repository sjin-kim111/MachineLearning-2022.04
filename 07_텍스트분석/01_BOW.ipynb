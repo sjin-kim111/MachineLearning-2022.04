{
  "nbformat": 4,
  "nbformat_minor": 0,
  "metadata": {
    "colab": {
      "name": "01_BOW.ipynb",
      "provenance": [],
      "collapsed_sections": []
    },
    "kernelspec": {
      "name": "python3",
      "display_name": "Python 3"
    },
    "language_info": {
      "name": "python"
    }
  },
  "cells": [
    {
      "cell_type": "markdown",
      "source": [
        "# Bag of Words\n",
        "### 1. CountVectorizer"
      ],
      "metadata": {
        "id": "75I9cxYAkkHV"
      }
    },
    {
      "cell_type": "code",
      "execution_count": null,
      "metadata": {
        "id": "wHZCbuJ5kh5d"
      },
      "outputs": [],
      "source": [
        "from sklearn.feature_extraction.text import CountVectorizer\n",
        "text = 'The SMS Spam Collection is a set of SMS tagged messages that have been collected for SMS Spam research.'"
      ]
    },
    {
      "cell_type": "code",
      "source": [
        "cvect = CountVectorizer()\n",
        "cvect.get_params()"
      ],
      "metadata": {
        "colab": {
          "base_uri": "https://localhost:8080/"
        },
        "id": "wSuBlNEjkzdI",
        "outputId": "659f290d-0b0d-4b4f-9ebd-c1f07c44cfe8"
      },
      "execution_count": null,
      "outputs": [
        {
          "output_type": "execute_result",
          "data": {
            "text/plain": [
              "{'analyzer': 'word',\n",
              " 'binary': False,\n",
              " 'decode_error': 'strict',\n",
              " 'dtype': numpy.int64,\n",
              " 'encoding': 'utf-8',\n",
              " 'input': 'content',\n",
              " 'lowercase': True,\n",
              " 'max_df': 1.0,\n",
              " 'max_features': None,\n",
              " 'min_df': 1,\n",
              " 'ngram_range': (1, 1),\n",
              " 'preprocessor': None,\n",
              " 'stop_words': None,\n",
              " 'strip_accents': None,\n",
              " 'token_pattern': '(?u)\\\\b\\\\w\\\\w+\\\\b',\n",
              " 'tokenizer': None,\n",
              " 'vocabulary': None}"
            ]
          },
          "metadata": {},
          "execution_count": 4
        }
      ]
    },
    {
      "cell_type": "code",
      "source": [
        "output = cvect.fit_transform([text]) # 자료는 리스트 형태로\n",
        "output.toarray()"
      ],
      "metadata": {
        "colab": {
          "base_uri": "https://localhost:8080/"
        },
        "id": "Ja4v-Y1dlKQR",
        "outputId": "ea6dffe8-bf05-400c-a492-7f705b1d9fcd"
      },
      "execution_count": null,
      "outputs": [
        {
          "output_type": "execute_result",
          "data": {
            "text/plain": [
              "array([[1, 1, 1, 1, 1, 1, 1, 1, 1, 1, 3, 2, 1, 1, 1]])"
            ]
          },
          "metadata": {},
          "execution_count": 8
        }
      ]
    },
    {
      "cell_type": "code",
      "source": [
        "cvect.vocabulary_"
      ],
      "metadata": {
        "colab": {
          "base_uri": "https://localhost:8080/"
        },
        "id": "jqc5aOSNldmy",
        "outputId": "5d9aaef4-c253-45c6-fba9-5908278d1343"
      },
      "execution_count": null,
      "outputs": [
        {
          "output_type": "execute_result",
          "data": {
            "text/plain": [
              "{'been': 0,\n",
              " 'collected': 1,\n",
              " 'collection': 2,\n",
              " 'for': 3,\n",
              " 'have': 4,\n",
              " 'is': 5,\n",
              " 'messages': 6,\n",
              " 'of': 7,\n",
              " 'research': 8,\n",
              " 'set': 9,\n",
              " 'sms': 10,\n",
              " 'spam': 11,\n",
              " 'tagged': 12,\n",
              " 'that': 13,\n",
              " 'the': 14}"
            ]
          },
          "metadata": {},
          "execution_count": 9
        }
      ]
    },
    {
      "cell_type": "markdown",
      "source": [
        "- 불용어 처리"
      ],
      "metadata": {
        "id": "oINgcwbRmhJk"
      }
    },
    {
      "cell_type": "code",
      "source": [
        "# 자체 제거\n",
        "cvect = CountVectorizer(stop_words=['is', 'a', 'the'])\n",
        "print(cvect.fit_transform([text]).toarray())\n",
        "print(cvect.vocabulary_)"
      ],
      "metadata": {
        "colab": {
          "base_uri": "https://localhost:8080/"
        },
        "id": "dCdwrIQLmG1H",
        "outputId": "779d3bd1-a459-43fe-a7f7-6a1b32e52164"
      },
      "execution_count": null,
      "outputs": [
        {
          "output_type": "stream",
          "name": "stdout",
          "text": [
            "[[1 1 1 1 1 1 1 1 1 3 2 1 1]]\n",
            "{'sms': 9, 'spam': 10, 'collection': 2, 'set': 8, 'of': 6, 'tagged': 11, 'messages': 5, 'that': 12, 'have': 4, 'been': 0, 'collected': 1, 'for': 3, 'research': 7}\n"
          ]
        }
      ]
    },
    {
      "cell_type": "code",
      "source": [
        "# Scikit-learn에서 제공하는 불용어 사용\n",
        "cvect = CountVectorizer(stop_words='english')\n",
        "print(cvect.fit_transform([text]).toarray())\n",
        "print(cvect.vocabulary_)"
      ],
      "metadata": {
        "colab": {
          "base_uri": "https://localhost:8080/"
        },
        "id": "OX2QkFN9m6fq",
        "outputId": "7302c89f-6750-43b1-c021-09562f49be24"
      },
      "execution_count": null,
      "outputs": [
        {
          "output_type": "stream",
          "name": "stdout",
          "text": [
            "[[1 1 1 1 1 3 2 1]]\n",
            "{'sms': 5, 'spam': 6, 'collection': 1, 'set': 4, 'tagged': 7, 'messages': 2, 'collected': 0, 'research': 3}\n"
          ]
        }
      ]
    },
    {
      "cell_type": "code",
      "source": [
        "# NLTK 불용어 사용\n",
        "import nltk\n",
        "nltk.download('stopwords')"
      ],
      "metadata": {
        "colab": {
          "base_uri": "https://localhost:8080/"
        },
        "id": "hhwe0VtHncM-",
        "outputId": "31f46119-fbc4-4aae-a391-691106999af5"
      },
      "execution_count": null,
      "outputs": [
        {
          "output_type": "stream",
          "name": "stdout",
          "text": [
            "[nltk_data] Downloading package stopwords to /root/nltk_data...\n",
            "[nltk_data]   Unzipping corpora/stopwords.zip.\n"
          ]
        },
        {
          "output_type": "execute_result",
          "data": {
            "text/plain": [
              "True"
            ]
          },
          "metadata": {},
          "execution_count": 12
        }
      ]
    },
    {
      "cell_type": "code",
      "source": [
        "from nltk.corpus import stopwords\n",
        "sw = stopwords.words('english')\n",
        "len(sw), type(sw)"
      ],
      "metadata": {
        "colab": {
          "base_uri": "https://localhost:8080/"
        },
        "id": "IYZNOFjFoCdR",
        "outputId": "90c2a7f2-cdeb-4ef1-8ccd-a089d963361a"
      },
      "execution_count": null,
      "outputs": [
        {
          "output_type": "execute_result",
          "data": {
            "text/plain": [
              "(179, list)"
            ]
          },
          "metadata": {},
          "execution_count": 15
        }
      ]
    },
    {
      "cell_type": "code",
      "source": [
        "cvect = CountVectorizer(stop_words=sw)\n",
        "print(cvect.fit_transform([text]).toarray())\n",
        "print(cvect.vocabulary_)"
      ],
      "metadata": {
        "colab": {
          "base_uri": "https://localhost:8080/"
        },
        "id": "sJ7W3m-GoMTx",
        "outputId": "3cca9025-87c4-4a0f-910c-d6dd633a3b53"
      },
      "execution_count": null,
      "outputs": [
        {
          "output_type": "stream",
          "name": "stdout",
          "text": [
            "[[1 1 1 1 1 3 2 1]]\n",
            "{'sms': 5, 'spam': 6, 'collection': 1, 'set': 4, 'tagged': 7, 'messages': 2, 'collected': 0, 'research': 3}\n"
          ]
        }
      ]
    },
    {
      "cell_type": "markdown",
      "source": [
        "- 빈도수에 따른 단어 출력 함수 만들기"
      ],
      "metadata": {
        "id": "ldMWXX8BowqT"
      }
    },
    {
      "cell_type": "code",
      "source": [
        "voca = cvect.vocabulary_\n",
        "for key, value in voca.items():\n",
        "    print(key, value)"
      ],
      "metadata": {
        "colab": {
          "base_uri": "https://localhost:8080/"
        },
        "id": "HRjQFr8ZoZMg",
        "outputId": "a24f0b68-af71-4499-d589-0edc98f5f660"
      },
      "execution_count": null,
      "outputs": [
        {
          "output_type": "stream",
          "name": "stdout",
          "text": [
            "sms 5\n",
            "spam 6\n",
            "collection 1\n",
            "set 4\n",
            "tagged 7\n",
            "messages 2\n",
            "collected 0\n",
            "research 3\n"
          ]
        }
      ]
    },
    {
      "cell_type": "code",
      "source": [
        "def get_word(frequency, voca):\n",
        "    for key, value in voca.items():\n",
        "        if value == frequency:\n",
        "            return key"
      ],
      "metadata": {
        "id": "PaqOSmTXpIfn"
      },
      "execution_count": null,
      "outputs": []
    },
    {
      "cell_type": "code",
      "source": [
        "get_word(3, cvect.vocabulary_)"
      ],
      "metadata": {
        "colab": {
          "base_uri": "https://localhost:8080/",
          "height": 36
        },
        "id": "j6A4jWoZpafK",
        "outputId": "32f4301d-d62a-4ac8-efd1-7f3565178f69"
      },
      "execution_count": null,
      "outputs": [
        {
          "output_type": "execute_result",
          "data": {
            "text/plain": [
              "'research'"
            ],
            "application/vnd.google.colaboratory.intrinsic+json": {
              "type": "string"
            }
          },
          "metadata": {},
          "execution_count": 23
        }
      ]
    },
    {
      "cell_type": "markdown",
      "source": [
        "### 2. N-gram"
      ],
      "metadata": {
        "id": "mlH_Zjz0tT18"
      }
    },
    {
      "cell_type": "code",
      "source": [
        "text = ['I work at google.', 'I google at work.']"
      ],
      "metadata": {
        "id": "xrMKOOwspfdl"
      },
      "execution_count": null,
      "outputs": []
    },
    {
      "cell_type": "code",
      "source": [
        "cvect = CountVectorizer()\n",
        "print(cvect.fit_transform(text).toarray())\n",
        "print(cvect.vocabulary_)"
      ],
      "metadata": {
        "colab": {
          "base_uri": "https://localhost:8080/"
        },
        "id": "_RFdOZYVtkRZ",
        "outputId": "4abd2d2c-76a4-4a72-9311-6f50c4f4ede7"
      },
      "execution_count": null,
      "outputs": [
        {
          "output_type": "stream",
          "name": "stdout",
          "text": [
            "[[1 1 1]\n",
            " [1 1 1]]\n",
            "{'work': 2, 'at': 0, 'google': 1}\n"
          ]
        }
      ]
    },
    {
      "cell_type": "code",
      "source": [
        "cvect = CountVectorizer(ngram_range=(1, 2))\n",
        "print(cvect.fit_transform(text).toarray())\n",
        "print(cvect.vocabulary_)"
      ],
      "metadata": {
        "colab": {
          "base_uri": "https://localhost:8080/"
        },
        "id": "CS1PuEtltpyf",
        "outputId": "7ff32e8d-0960-4efb-8f3d-4f04aab3de28"
      },
      "execution_count": null,
      "outputs": [
        {
          "output_type": "stream",
          "name": "stdout",
          "text": [
            "[[1 1 0 1 0 1 1]\n",
            " [1 0 1 1 1 1 0]]\n",
            "{'work': 5, 'at': 0, 'google': 3, 'work at': 6, 'at google': 1, 'google at': 4, 'at work': 2}\n"
          ]
        }
      ]
    },
    {
      "cell_type": "markdown",
      "source": [
        "### 3. TfidfVectorizer(Term Frequency, Inverse Document Frequency)"
      ],
      "metadata": {
        "id": "MWtw6atpueOB"
      }
    },
    {
      "cell_type": "code",
      "source": [
        "text = ['The SMS Spam Collection is a set of SMS tagged messages that have been collected for SMS Spam research.',\n",
        "        'It contains one set of SMS messages in English of 5,574 messages, tagged acording being ham (legitimate) or spam.']"
      ],
      "metadata": {
        "id": "ma3esz-zt9aM"
      },
      "execution_count": null,
      "outputs": []
    },
    {
      "cell_type": "code",
      "source": [
        "from sklearn.feature_extraction.text import TfidfVectorizer\n",
        "tvect = TfidfVectorizer(stop_words='english')\n",
        "print(tvect.fit_transform(text).toarray())"
      ],
      "metadata": {
        "colab": {
          "base_uri": "https://localhost:8080/"
        },
        "id": "N8NYoH5evOpG",
        "outputId": "60b2bd0f-f4c2-45c8-b0f7-64c031cc2435"
      },
      "execution_count": null,
      "outputs": [
        {
          "output_type": "stream",
          "name": "stdout",
          "text": [
            "[[0.         0.         0.30015142 0.30015142 0.         0.\n",
            "  0.         0.         0.21356021 0.30015142 0.21356021 0.64068062\n",
            "  0.42712041 0.21356021]\n",
            " [0.31544091 0.31544091 0.         0.         0.31544091 0.31544091\n",
            "  0.31544091 0.31544091 0.44887761 0.         0.2244388  0.2244388\n",
            "  0.2244388  0.2244388 ]]\n"
          ]
        }
      ]
    },
    {
      "cell_type": "code",
      "source": [
        "cvect = CountVectorizer(stop_words='english')\n",
        "print(cvect.fit_transform(text).toarray())\n",
        "print(cvect.vocabulary_)"
      ],
      "metadata": {
        "colab": {
          "base_uri": "https://localhost:8080/"
        },
        "id": "SYpRbnzlvd5S",
        "outputId": "19ced669-c64b-4fb8-81ee-3ffcbe170639"
      },
      "execution_count": null,
      "outputs": [
        {
          "output_type": "stream",
          "name": "stdout",
          "text": [
            "[[0 0 1 1 0 0 0 0 1 1 1 3 2 1]\n",
            " [1 1 0 0 1 1 1 1 2 0 1 1 1 1]]\n",
            "{'sms': 11, 'spam': 12, 'collection': 3, 'set': 10, 'tagged': 13, 'messages': 8, 'collected': 2, 'research': 9, 'contains': 4, 'english': 5, '574': 0, 'acording': 1, 'ham': 6, 'legitimate': 7}\n"
          ]
        }
      ]
    }
  ]
}